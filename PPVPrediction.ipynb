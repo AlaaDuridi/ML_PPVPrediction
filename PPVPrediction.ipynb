{
 "cells": [
  {
   "cell_type": "markdown",
   "id": "29cee591",
   "metadata": {},
   "source": [
    "Import Necessary Libraries"
   ]
  },
  {
   "cell_type": "code",
   "execution_count": 1,
   "id": "d8be284b",
   "metadata": {},
   "outputs": [],
   "source": [
    "import numpy as np\n",
    "import pandas as pd\n",
    "from sklearn.model_selection import train_test_split\n",
    "from sklearn.preprocessing import LabelEncoder\n",
    "from sklearn.ensemble import RandomForestRegressor, GradientBoostingRegressor\n",
    "from sklearn.linear_model import LinearRegression\n",
    "from sklearn.metrics import mean_squared_error, mean_absolute_error\n"
   ]
  },
  {
   "cell_type": "markdown",
   "id": "9dc0ac78",
   "metadata": {},
   "source": [
    "Load the data "
   ]
  },
  {
   "cell_type": "code",
   "execution_count": 2,
   "id": "c50a8021",
   "metadata": {},
   "outputs": [],
   "source": [
    "file_path = \"data/TG_T_CashValues_Rel.csv\"\n",
    "data = pd.read_csv(file_path)\n",
    "new_data = data.copy(deep=True)"
   ]
  },
  {
   "cell_type": "markdown",
   "id": "e1d402d2",
   "metadata": {},
   "source": [
    "Prepare the Data"
   ]
  },
  {
   "cell_type": "code",
   "execution_count": 3,
   "id": "5ee19aba",
   "metadata": {},
   "outputs": [],
   "source": [
    "\n",
    "label_encoder = LabelEncoder()\n",
    "data['Gender_encoded'] = label_encoder.fit_transform(data['Gender'])\n",
    "\n",
    "# Prepare the features; 'Age' only for simple Linear Regression to simulate a \"single variable\" regression\n",
    "X_single = data[['Age']]  # Single feature for simple Linear Regression\n",
    "X_multiple = data[['Gender_encoded', 'Age', 'Dur']]  # Multiple features for Multiple Linear Regression\n",
    "y = data['ppv']\n",
    "\n",
    "X_train_single, X_test_single, y_train, y_test = train_test_split(X_single, y, test_size=0.2, random_state=42)\n",
    "X_train_multiple, X_test_multiple, _, _ = train_test_split(X_multiple, y, test_size=0.2, random_state=42)\n",
    "\n"
   ]
  },
  {
   "cell_type": "markdown",
   "id": "68d91f26",
   "metadata": {},
   "source": [
    "Initialize, Train, and Predict with Each Model"
   ]
  },
  {
   "cell_type": "code",
   "execution_count": 4,
   "id": "24787b00",
   "metadata": {},
   "outputs": [],
   "source": [
    "\n",
    "# Simple Linear Regression\n",
    "lr_simple_model = LinearRegression()\n",
    "lr_simple_model.fit(X_train_single, y_train)\n",
    "lr_simple_predictions = lr_simple_model.predict(X_test_single)\n",
    "lr_simple_rmse = np.sqrt(mean_squared_error(y_test, lr_simple_predictions))\n",
    "lr_simple_mae = mean_absolute_error(y_test, lr_simple_predictions)\n",
    "\n",
    "# Multiple Linear Regression\n",
    "lr_multiple_model = LinearRegression()\n",
    "lr_multiple_model.fit(X_train_multiple, y_train)\n",
    "lr_multiple_predictions = lr_multiple_model.predict(X_test_multiple)\n",
    "lr_multiple_rmse = np.sqrt(mean_squared_error(y_test, lr_multiple_predictions))\n",
    "lr_multiple_mae = mean_absolute_error(y_test, lr_multiple_predictions)\n",
    "\n",
    "# Random Forest Regression\n",
    "rf_model = RandomForestRegressor(n_estimators=100, random_state=42)\n",
    "rf_model.fit(X_train_multiple, y_train)\n",
    "rf_predictions = rf_model.predict(X_test_multiple)\n",
    "rf_rmse = np.sqrt(mean_squared_error(y_test, rf_predictions))\n",
    "rf_mae = mean_absolute_error(y_test, rf_predictions)\n",
    "\n",
    "# Gradient Boosting Regression\n",
    "gb_model = GradientBoostingRegressor(n_estimators=100, random_state=42)\n",
    "gb_model.fit(X_train_multiple, y_train)\n",
    "gb_predictions = gb_model.predict(X_test_multiple)\n",
    "gb_rmse = np.sqrt(mean_squared_error(y_test, gb_predictions))\n",
    "gb_mae = mean_absolute_error(y_test, gb_predictions)"
   ]
  },
  {
   "cell_type": "markdown",
   "id": "a5f06b75",
   "metadata": {},
   "source": [
    "Compare the Results"
   ]
  },
  {
   "cell_type": "code",
   "execution_count": 5,
   "id": "14f7838b",
   "metadata": {},
   "outputs": [
    {
     "name": "stdout",
     "output_type": "stream",
     "text": [
      "Simple Linear Regression RMSE: 5.73700580970332 MAE: 4.781813736228542\n",
      "Multiple Linear Regression RMSE: 1.2769828718583154 MAE: 1.0668901326133526\n",
      "Random Forest RMSE: 0.052948978115997254 MAE: 0.02887988113036927\n",
      "Gradient Boosting RMSE: 0.12836318310884826 MAE: 0.07578968784866744\n"
     ]
    }
   ],
   "source": [
    "\n",
    "# Print the results\n",
    "print(\"Simple Linear Regression RMSE:\", lr_simple_rmse, \"MAE:\", lr_simple_mae)\n",
    "print(\"Multiple Linear Regression RMSE:\", lr_multiple_rmse, \"MAE:\", lr_multiple_mae)\n",
    "print(\"Random Forest RMSE:\", rf_rmse, \"MAE:\", rf_mae)\n",
    "print(\"Gradient Boosting RMSE:\", gb_rmse, \"MAE:\", gb_mae)\n"
   ]
  },
  {
   "cell_type": "markdown",
   "id": "cfdb6d6c",
   "metadata": {},
   "source": [
    "### Random Forest Regression will be the chosen algorithm, since it provides the lowest RMSE(Root Mean Squared Error)"
   ]
  },
  {
   "cell_type": "code",
   "execution_count": 7,
   "id": "948decb1",
   "metadata": {},
   "outputs": [],
   "source": [
    "new_data['Gender_encoded'] = label_encoder.transform(new_data['Gender'])  \n",
    "X_new = new_data[['Gender_encoded', 'Age', 'Dur']] \n",
    "\n",
    "# Predict using the trained Random Forest model\n",
    "new_predictions = rf_model.predict(X_new)\n",
    "\n",
    "# Optionally, attach predictions back to the new_data DataFrame\n",
    "new_data['Predicted_ppv'] = new_predictions\n"
   ]
  },
  {
   "cell_type": "code",
   "execution_count": 8,
   "id": "614c6cc2",
   "metadata": {},
   "outputs": [
    {
     "data": {
      "text/html": [
       "<div>\n",
       "<style scoped>\n",
       "    .dataframe tbody tr th:only-of-type {\n",
       "        vertical-align: middle;\n",
       "    }\n",
       "\n",
       "    .dataframe tbody tr th {\n",
       "        vertical-align: top;\n",
       "    }\n",
       "\n",
       "    .dataframe thead th {\n",
       "        text-align: right;\n",
       "    }\n",
       "</style>\n",
       "<table border=\"1\" class=\"dataframe\">\n",
       "  <thead>\n",
       "    <tr style=\"text-align: right;\">\n",
       "      <th></th>\n",
       "      <th>Gender</th>\n",
       "      <th>Age</th>\n",
       "      <th>Dur</th>\n",
       "      <th>ppv</th>\n",
       "      <th>Gender_encoded</th>\n",
       "      <th>Predicted_ppv</th>\n",
       "    </tr>\n",
       "  </thead>\n",
       "  <tbody>\n",
       "    <tr>\n",
       "      <th>0</th>\n",
       "      <td>Male</td>\n",
       "      <td>0</td>\n",
       "      <td>20</td>\n",
       "      <td>15.198437</td>\n",
       "      <td>1</td>\n",
       "      <td>15.198485</td>\n",
       "    </tr>\n",
       "    <tr>\n",
       "      <th>1</th>\n",
       "      <td>Male</td>\n",
       "      <td>0</td>\n",
       "      <td>21</td>\n",
       "      <td>15.741015</td>\n",
       "      <td>1</td>\n",
       "      <td>15.740537</td>\n",
       "    </tr>\n",
       "    <tr>\n",
       "      <th>2</th>\n",
       "      <td>Male</td>\n",
       "      <td>0</td>\n",
       "      <td>22</td>\n",
       "      <td>16.267189</td>\n",
       "      <td>1</td>\n",
       "      <td>16.267115</td>\n",
       "    </tr>\n",
       "    <tr>\n",
       "      <th>3</th>\n",
       "      <td>Male</td>\n",
       "      <td>0</td>\n",
       "      <td>23</td>\n",
       "      <td>16.777448</td>\n",
       "      <td>1</td>\n",
       "      <td>16.777270</td>\n",
       "    </tr>\n",
       "    <tr>\n",
       "      <th>4</th>\n",
       "      <td>Male</td>\n",
       "      <td>0</td>\n",
       "      <td>24</td>\n",
       "      <td>17.272269</td>\n",
       "      <td>1</td>\n",
       "      <td>17.271443</td>\n",
       "    </tr>\n",
       "    <tr>\n",
       "      <th>...</th>\n",
       "      <td>...</td>\n",
       "      <td>...</td>\n",
       "      <td>...</td>\n",
       "      <td>...</td>\n",
       "      <td>...</td>\n",
       "      <td>...</td>\n",
       "    </tr>\n",
       "    <tr>\n",
       "      <th>5265</th>\n",
       "      <td>Female</td>\n",
       "      <td>78</td>\n",
       "      <td>2</td>\n",
       "      <td>1.925421</td>\n",
       "      <td>0</td>\n",
       "      <td>1.899450</td>\n",
       "    </tr>\n",
       "    <tr>\n",
       "      <th>5266</th>\n",
       "      <td>Female</td>\n",
       "      <td>78</td>\n",
       "      <td>3</td>\n",
       "      <td>2.777638</td>\n",
       "      <td>0</td>\n",
       "      <td>2.764200</td>\n",
       "    </tr>\n",
       "    <tr>\n",
       "      <th>5267</th>\n",
       "      <td>Female</td>\n",
       "      <td>79</td>\n",
       "      <td>1</td>\n",
       "      <td>1.000000</td>\n",
       "      <td>0</td>\n",
       "      <td>1.000000</td>\n",
       "    </tr>\n",
       "    <tr>\n",
       "      <th>5268</th>\n",
       "      <td>Female</td>\n",
       "      <td>79</td>\n",
       "      <td>2</td>\n",
       "      <td>1.920897</td>\n",
       "      <td>0</td>\n",
       "      <td>1.895051</td>\n",
       "    </tr>\n",
       "    <tr>\n",
       "      <th>5269</th>\n",
       "      <td>Female</td>\n",
       "      <td>80</td>\n",
       "      <td>1</td>\n",
       "      <td>1.000000</td>\n",
       "      <td>0</td>\n",
       "      <td>1.000000</td>\n",
       "    </tr>\n",
       "  </tbody>\n",
       "</table>\n",
       "<p>5270 rows × 6 columns</p>\n",
       "</div>"
      ],
      "text/plain": [
       "      Gender  Age  Dur        ppv  Gender_encoded  Predicted_ppv\n",
       "0       Male    0   20  15.198437               1      15.198485\n",
       "1       Male    0   21  15.741015               1      15.740537\n",
       "2       Male    0   22  16.267189               1      16.267115\n",
       "3       Male    0   23  16.777448               1      16.777270\n",
       "4       Male    0   24  17.272269               1      17.271443\n",
       "...      ...  ...  ...        ...             ...            ...\n",
       "5265  Female   78    2   1.925421               0       1.899450\n",
       "5266  Female   78    3   2.777638               0       2.764200\n",
       "5267  Female   79    1   1.000000               0       1.000000\n",
       "5268  Female   79    2   1.920897               0       1.895051\n",
       "5269  Female   80    1   1.000000               0       1.000000\n",
       "\n",
       "[5270 rows x 6 columns]"
      ]
     },
     "execution_count": 8,
     "metadata": {},
     "output_type": "execute_result"
    }
   ],
   "source": [
    "new_data"
   ]
  },
  {
   "cell_type": "code",
   "execution_count": 13,
   "id": "95cd1d34",
   "metadata": {},
   "outputs": [],
   "source": [
    "import joblib\n",
    "\n",
    "# Save the model to disk\n",
    "joblib.dump(rf_model, 'data/random_forest_model.pkl')\n",
    "\n",
    "# Load the model from disk (e.g., in another application or system)\n",
    "loaded_rf_model = joblib.load('data/random_forest_model.pkl')\n",
    "\n",
    "# Use loaded model to make predictions\n",
    "predictions = loaded_rf_model.predict(X_new)"
   ]
  },
  {
   "cell_type": "code",
   "execution_count": null,
   "id": "7de34967",
   "metadata": {},
   "outputs": [],
   "source": []
  }
 ],
 "metadata": {
  "kernelspec": {
   "display_name": "Python 3 (ipykernel)",
   "language": "python",
   "name": "python3"
  },
  "language_info": {
   "codemirror_mode": {
    "name": "ipython",
    "version": 3
   },
   "file_extension": ".py",
   "mimetype": "text/x-python",
   "name": "python",
   "nbconvert_exporter": "python",
   "pygments_lexer": "ipython3",
   "version": "3.10.9"
  }
 },
 "nbformat": 4,
 "nbformat_minor": 5
}
